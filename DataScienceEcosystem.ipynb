{
 "cells": [
  {
   "cell_type": "markdown",
   "id": "3aca0a28-5614-4457-b814-aef28a9bafde",
   "metadata": {},
   "source": [
    "# Data Science Tools and Ecosystem\n",
    "\n",
    "**Introduction**\n",
    "\n",
    "In this notebook, Data Science Tools and Ecosystem are summarized.\n",
    "\n",
    "**Popular Data Science Languages**\n",
    "\n",
    "1. Python\n",
    "2. R\n",
    "3. SQL\n",
    "\n",
    "**Popular Data Science Libraries**\n",
    "\n",
    "* NumPy\n",
    "* Pandas\n",
    "* Scikit-learn\n",
    "* TensorFlow\n",
    "* PyTorch\n",
    "\n",
    "**Data Science Tools**\n",
    "\n",
    "| Tool | Description |\n",
    "|---|---|\n",
    "| Jupyter Notebook | Interactive notebook environment |\n",
    "| RStudio | Integrated Development Environment for R |\n",
    "| Visual Studio Code | Versatile code editor |\n",
    "\n",
    "**Arithmetic Operations in Python**\n",
    "```python\n",
    "# This is a simple arithmetic expression to multiply then add integers.\n",
    "print((3 * 4) + 5)\n",
    "\n",
    "# This will convert 200 minutes to hours by dividing by 60.\n",
    "print(200 / 60)\n",
    "\n",
    "## Author\n",
    "[Pankil Shah]"
   ]
  },
  {
   "cell_type": "code",
   "execution_count": null,
   "id": "0ab2fa9b-455f-42ed-98ba-d8b7374d43c1",
   "metadata": {},
   "outputs": [],
   "source": []
  }
 ],
 "metadata": {
  "kernelspec": {
   "display_name": "Python 3 (ipykernel)",
   "language": "python",
   "name": "python3"
  },
  "language_info": {
   "codemirror_mode": {
    "name": "ipython",
    "version": 3
   },
   "file_extension": ".py",
   "mimetype": "text/x-python",
   "name": "python",
   "nbconvert_exporter": "python",
   "pygments_lexer": "ipython3",
   "version": "3.11.9"
  }
 },
 "nbformat": 4,
 "nbformat_minor": 5
}
